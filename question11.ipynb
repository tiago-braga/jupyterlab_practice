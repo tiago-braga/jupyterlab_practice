{
 "cells": [
  {
   "cell_type": "markdown",
   "id": "d5487fdd-dec7-4a55-b0d7-355eab16b6e2",
   "metadata": {},
   "source": [
    "# Tiago Braga\n",
    "Notebook for assignment 7\n"
   ]
  },
  {
   "cell_type": "code",
   "execution_count": 1,
   "id": "ccb41a35-e253-4808-9b04-3ad229f6a17e",
   "metadata": {},
   "outputs": [
    {
     "name": "stdout",
     "output_type": "stream",
     "text": [
      "5.0\n"
     ]
    }
   ],
   "source": [
    "def compute_mean(values):\n",
    "    mean = sum(values) / len(values)\n",
    "    print(mean)\n",
    "\n",
    "compute_mean([2, 4, 6, 8])\n"
   ]
  },
  {
   "cell_type": "markdown",
   "id": "a736e8b0-08cb-47cc-bcdc-c03ee4d974cc",
   "metadata": {},
   "source": [
    "## Explanation\n",
    "\n",
    "This code represents a Python function called `compute_mean` that calculates the mean of all the values in a list.\n",
    "\n",
    "The mean value is calculated using the formula:\n",
    "\n",
    "$$\n",
    "\\bar{x} = \\frac{{x_1 + x_2 + \\ldots + x_n}}{{n}}\n",
    "$$\n",
    "\n",
    "\n",
    "\n",
    "where \\(n\\) is the number of values in the list. Basically, when you call this function with a list of values, it calculates the mean and prints the result after, so it can be a very useful and popular function.\n"
   ]
  },
  {
   "cell_type": "markdown",
   "id": "f35c8514-182f-46d5-9e24-accb3813cd5c",
   "metadata": {},
   "source": [
    "Considering a general equation to calculate the mean of list of values:\n",
    "\n",
    "$$\n",
    "\\bar{x} = \\frac{{x_1 + x_2 + \\ldots + x_n}}{{n}} = \\frac{{1}}{{n}} \\left( \\sum_{i=1}^{n} x_i \\right)\n",
    "$$\n",
    "\n"
   ]
  },
  {
   "cell_type": "markdown",
   "id": "c2d4d4a7-7d00-4e15-9cae-2344de6e09e4",
   "metadata": {},
   "source": [
    "We can also express that equation in other ways suck as:\n",
    "\n",
    "$$\n",
    "\\frac{1}{n} (x_1 + x_2 + \\ldots + x_n) = \\frac{1}{n} \\sum_{i=1}^{n} x_i\n",
    "$$\n"
   ]
  },
  {
   "cell_type": "markdown",
   "id": "88bb0c11-7589-47ad-b0dd-6f8e4ba66b24",
   "metadata": {},
   "source": [
    "and also:\n",
    "\n",
    "$$\n",
    "\\frac{{x_1 + x_2 + \\ldots + x_n}}{{n}} = \\frac{1}{n} \\left( x_1 + x_2 + \\ldots + x_n \\right)\n",
    "$$\n"
   ]
  }
 ],
 "metadata": {
  "kernelspec": {
   "display_name": "Python 3 (ipykernel)",
   "language": "python",
   "name": "python3"
  },
  "language_info": {
   "codemirror_mode": {
    "name": "ipython",
    "version": 3
   },
   "file_extension": ".py",
   "mimetype": "text/x-python",
   "name": "python",
   "nbconvert_exporter": "python",
   "pygments_lexer": "ipython3",
   "version": "3.12.2"
  }
 },
 "nbformat": 4,
 "nbformat_minor": 5
}
